{
 "cells": [
  {
   "cell_type": "markdown",
   "id": "7bfd7194",
   "metadata": {},
   "source": [
    "# Importación de librerías"
   ]
  },
  {
   "cell_type": "code",
   "execution_count": 1,
   "id": "0de556a5",
   "metadata": {},
   "outputs": [
    {
     "name": "stdout",
     "output_type": "stream",
     "text": [
      "Requirement already satisfied: scikit-learn in c:\\users\\carlosim\\miniconda3\\lib\\site-packages (1.4.1.post1)\n",
      "Requirement already satisfied: joblib>=1.2.0 in c:\\users\\carlosim\\miniconda3\\lib\\site-packages (from scikit-learn) (1.3.2)\n",
      "Requirement already satisfied: numpy<2.0,>=1.19.5 in c:\\users\\carlosim\\miniconda3\\lib\\site-packages (from scikit-learn) (1.23.5)\n",
      "Requirement already satisfied: scipy>=1.6.0 in c:\\users\\carlosim\\miniconda3\\lib\\site-packages (from scikit-learn) (1.11.3)\n",
      "Requirement already satisfied: threadpoolctl>=2.0.0 in c:\\users\\carlosim\\miniconda3\\lib\\site-packages (from scikit-learn) (3.3.0)\n",
      "Requirement already satisfied: seaborn in c:\\users\\carlosim\\miniconda3\\lib\\site-packages (0.13.2)\n",
      "Requirement already satisfied: pandas>=1.2 in c:\\users\\carlosim\\miniconda3\\lib\\site-packages (from seaborn) (1.5.3)\n",
      "Requirement already satisfied: numpy!=1.24.0,>=1.20 in c:\\users\\carlosim\\miniconda3\\lib\\site-packages (from seaborn) (1.23.5)\n",
      "Requirement already satisfied: matplotlib!=3.6.1,>=3.4 in c:\\users\\carlosim\\miniconda3\\lib\\site-packages (from seaborn) (3.6.2)\n",
      "Requirement already satisfied: fonttools>=4.22.0 in c:\\users\\carlosim\\miniconda3\\lib\\site-packages (from matplotlib!=3.6.1,>=3.4->seaborn) (4.25.0)\n",
      "Requirement already satisfied: pillow>=6.2.0 in c:\\users\\carlosim\\miniconda3\\lib\\site-packages (from matplotlib!=3.6.1,>=3.4->seaborn) (9.3.0)\n",
      "Requirement already satisfied: kiwisolver>=1.0.1 in c:\\users\\carlosim\\miniconda3\\lib\\site-packages (from matplotlib!=3.6.1,>=3.4->seaborn) (1.4.4)\n",
      "Requirement already satisfied: python-dateutil>=2.7 in c:\\users\\carlosim\\miniconda3\\lib\\site-packages (from matplotlib!=3.6.1,>=3.4->seaborn) (2.8.2)\n",
      "Requirement already satisfied: cycler>=0.10 in c:\\users\\carlosim\\miniconda3\\lib\\site-packages (from matplotlib!=3.6.1,>=3.4->seaborn) (0.11.0)\n",
      "Requirement already satisfied: packaging>=20.0 in c:\\users\\carlosim\\miniconda3\\lib\\site-packages (from matplotlib!=3.6.1,>=3.4->seaborn) (22.0)\n",
      "Requirement already satisfied: pyparsing>=2.2.1 in c:\\users\\carlosim\\miniconda3\\lib\\site-packages (from matplotlib!=3.6.1,>=3.4->seaborn) (3.0.9)\n",
      "Requirement already satisfied: contourpy>=1.0.1 in c:\\users\\carlosim\\miniconda3\\lib\\site-packages (from matplotlib!=3.6.1,>=3.4->seaborn) (1.0.5)\n",
      "Requirement already satisfied: pytz>=2020.1 in c:\\users\\carlosim\\miniconda3\\lib\\site-packages (from pandas>=1.2->seaborn) (2022.7)\n",
      "Requirement already satisfied: six>=1.5 in c:\\users\\carlosim\\miniconda3\\lib\\site-packages (from python-dateutil>=2.7->matplotlib!=3.6.1,>=3.4->seaborn) (1.16.0)\n",
      "Requirement already satisfied: geopandas in c:\\users\\carlosim\\miniconda3\\lib\\site-packages (0.14.3)\n",
      "Requirement already satisfied: matplotlib in c:\\users\\carlosim\\miniconda3\\lib\\site-packages (3.6.2)\n",
      "Requirement already satisfied: fiona>=1.8.21 in c:\\users\\carlosim\\miniconda3\\lib\\site-packages (from geopandas) (1.9.5)\n",
      "Requirement already satisfied: packaging in c:\\users\\carlosim\\miniconda3\\lib\\site-packages (from geopandas) (22.0)\n",
      "Requirement already satisfied: pyproj>=3.3.0 in c:\\users\\carlosim\\miniconda3\\lib\\site-packages (from geopandas) (3.6.1)\n",
      "Requirement already satisfied: pandas>=1.4.0 in c:\\users\\carlosim\\miniconda3\\lib\\site-packages (from geopandas) (1.5.3)\n",
      "Requirement already satisfied: shapely>=1.8.0 in c:\\users\\carlosim\\miniconda3\\lib\\site-packages (from geopandas) (2.0.3)\n",
      "Requirement already satisfied: pillow>=6.2.0 in c:\\users\\carlosim\\miniconda3\\lib\\site-packages (from matplotlib) (9.3.0)\n",
      "Requirement already satisfied: pyparsing>=2.2.1 in c:\\users\\carlosim\\miniconda3\\lib\\site-packages (from matplotlib) (3.0.9)\n",
      "Requirement already satisfied: numpy>=1.19 in c:\\users\\carlosim\\miniconda3\\lib\\site-packages (from matplotlib) (1.23.5)\n",
      "Requirement already satisfied: kiwisolver>=1.0.1 in c:\\users\\carlosim\\miniconda3\\lib\\site-packages (from matplotlib) (1.4.4)\n",
      "Requirement already satisfied: python-dateutil>=2.7 in c:\\users\\carlosim\\miniconda3\\lib\\site-packages (from matplotlib) (2.8.2)\n",
      "Requirement already satisfied: cycler>=0.10 in c:\\users\\carlosim\\miniconda3\\lib\\site-packages (from matplotlib) (0.11.0)\n",
      "Requirement already satisfied: contourpy>=1.0.1 in c:\\users\\carlosim\\miniconda3\\lib\\site-packages (from matplotlib) (1.0.5)\n",
      "Requirement already satisfied: fonttools>=4.22.0 in c:\\users\\carlosim\\miniconda3\\lib\\site-packages (from matplotlib) (4.25.0)\n",
      "Requirement already satisfied: setuptools in c:\\users\\carlosim\\miniconda3\\lib\\site-packages (from fiona>=1.8.21->geopandas) (65.6.3)\n",
      "Requirement already satisfied: attrs>=19.2.0 in c:\\users\\carlosim\\miniconda3\\lib\\site-packages (from fiona>=1.8.21->geopandas) (22.1.0)\n",
      "Requirement already satisfied: click-plugins>=1.0 in c:\\users\\carlosim\\miniconda3\\lib\\site-packages (from fiona>=1.8.21->geopandas) (1.1.1)\n",
      "Requirement already satisfied: six in c:\\users\\carlosim\\miniconda3\\lib\\site-packages (from fiona>=1.8.21->geopandas) (1.16.0)\n",
      "Requirement already satisfied: click~=8.0 in c:\\users\\carlosim\\miniconda3\\lib\\site-packages (from fiona>=1.8.21->geopandas) (8.1.7)\n",
      "Requirement already satisfied: cligj>=0.5 in c:\\users\\carlosim\\miniconda3\\lib\\site-packages (from fiona>=1.8.21->geopandas) (0.7.2)\n",
      "Requirement already satisfied: certifi in c:\\users\\carlosim\\miniconda3\\lib\\site-packages (from fiona>=1.8.21->geopandas) (2023.7.22)\n",
      "Requirement already satisfied: pytz>=2020.1 in c:\\users\\carlosim\\miniconda3\\lib\\site-packages (from pandas>=1.4.0->geopandas) (2022.7)\n",
      "Requirement already satisfied: colorama in c:\\users\\carlosim\\miniconda3\\lib\\site-packages (from click~=8.0->fiona>=1.8.21->geopandas) (0.4.6)\n"
     ]
    }
   ],
   "source": [
    "%matplotlib inline\n",
    "!pip install scikit-learn\n",
    "!pip install seaborn\n",
    "!pip install geopandas matplotlib\n",
    "\n",
    "import os\n",
    "import csv\n",
    "import numpy as np\n",
    "import pandas as pd\n",
    "import seaborn as sns\n",
    "import matplotlib.pyplot as plt\n",
    "import matplotlib.cm as cm\n",
    "from glob import glob\n",
    "import geopandas as gpd\n",
    "\n",
    "from scipy.spatial import distance_matrix\n",
    "from sklearn.preprocessing import MinMaxScaler\n",
    "\n",
    "# Para no mostrar 'Future Warnings' producto de que algunos paquetes aún\n",
    "# trabajan con versiones no actualizadas de otros paquetes\n",
    "import warnings\n",
    "warnings.simplefilter(action='ignore', category=FutureWarning)"
   ]
  },
  {
   "cell_type": "markdown",
   "id": "4e45ee2a",
   "metadata": {},
   "source": [
    "# Función para transformar los txt de resultados a csv"
   ]
  },
  {
   "cell_type": "code",
   "execution_count": 6,
   "id": "b2d6cba9",
   "metadata": {},
   "outputs": [],
   "source": [
    "def txt_to_csv(input_file, output_file):\n",
    "    with open(input_file, 'r') as txt_file:\n",
    "        # Lee el archivo de texto línea por línea\n",
    "        lines = txt_file.readlines()\n",
    "\n",
    "    with open(output_file, 'w', newline='') as csv_file:\n",
    "        writer = csv.writer(csv_file)\n",
    "\n",
    "        for line in lines:\n",
    "            # Divide cada línea en valores separados por comas\n",
    "            values = line.strip().split(',')\n",
    "            # Escribe los valores en el archivo CSV\n",
    "            writer.writerow(values)\n",
    "\n",
    "def txt_files_to_csv_folder(input_folder, output_folder):\n",
    "    # Comprueba si el directorio de salida existe, si no, créalo\n",
    "    if not os.path.exists(output_folder):\n",
    "        os.makedirs(output_folder)\n",
    "\n",
    "    # Obtiene la lista de archivos .txt en el directorio de entrada\n",
    "    txt_files = [file for file in os.listdir(input_folder) if file.endswith('.txt')]\n",
    "\n",
    "    # Itera sobre cada archivo .txt y conviértelo a CSV\n",
    "    for txt_file in txt_files:\n",
    "        input_file_path = os.path.join(input_folder, txt_file)\n",
    "        output_file_path = os.path.join(output_folder, txt_file.replace('.txt', '.csv'))\n",
    "        txt_to_csv(input_file_path, output_file_path)"
   ]
  },
  {
   "cell_type": "code",
   "execution_count": 61,
   "id": "16d4221c",
   "metadata": {},
   "outputs": [],
   "source": [
    "#Con mi organizacion de directorios sería\n",
    "txt_files_to_csv_folder('.\\Resultados', '.\\Resultados_csv')"
   ]
  },
  {
   "cell_type": "markdown",
   "id": "7f840427",
   "metadata": {},
   "source": [
    "# Creación de dataframes"
   ]
  },
  {
   "cell_type": "markdown",
   "id": "7455b305",
   "metadata": {},
   "source": [
    "Con estas funciones, se genera una lista de dataframes con todos los csv del directorio que introduzcamos(En mi caso, sería el directorio '.\\Resultados_csv'), además de esto se le añade al título de cada columna el nombre del fichero, permitiendonos filtrar fácilmente."
   ]
  },
  {
   "cell_type": "code",
   "execution_count": 9,
   "id": "061081e7",
   "metadata": {},
   "outputs": [],
   "source": [
    "def csv_to_dataframe(csv_file):\n",
    "    return pd.read_csv(csv_file)\n",
    "\n",
    "def csv_files_to_dataframe_folder(input_folder):\n",
    "    # Obtiene la lista de archivos CSV en el directorio de entrada\n",
    "    csv_files = [file for file in os.listdir(input_folder) if file.endswith('.csv')]\n",
    "    dataframes = []\n",
    "    \n",
    "    for csv_file in csv_files:\n",
    "        csv_file_path = os.path.join(input_folder, csv_file)\n",
    "        df = csv_to_dataframe(csv_file_path)\n",
    "        # Renombra las columnas para incluir el nombre del archivo al final del nombre de la columna\n",
    "        df = df.rename(columns=lambda x: f\"{x}_{os.path.splitext(csv_file)[0]}\")\n",
    "        # Agrega el DataFrame a la lista\n",
    "        dataframes.append(df)\n",
    "    \n",
    "    return dataframes"
   ]
  },
  {
   "cell_type": "markdown",
   "id": "56398a8b",
   "metadata": {},
   "source": [
    "De esta manera, ya tenemos una lista con todos los dataframes del directorio."
   ]
  },
  {
   "cell_type": "code",
   "execution_count": 10,
   "id": "bbd3f9cb",
   "metadata": {},
   "outputs": [
    {
     "name": "stdout",
     "output_type": "stream",
     "text": [
      "9\n"
     ]
    },
    {
     "data": {
      "text/html": [
       "<div>\n",
       "<style scoped>\n",
       "    .dataframe tbody tr th:only-of-type {\n",
       "        vertical-align: middle;\n",
       "    }\n",
       "\n",
       "    .dataframe tbody tr th {\n",
       "        vertical-align: top;\n",
       "    }\n",
       "\n",
       "    .dataframe thead th {\n",
       "        text-align: right;\n",
       "    }\n",
       "</style>\n",
       "<table border=\"1\" class=\"dataframe\">\n",
       "  <thead>\n",
       "    <tr style=\"text-align: right;\">\n",
       "      <th></th>\n",
       "      <th>num_steps_Basic_openMP_8</th>\n",
       "      <th>Estimaci¾n pi_Basic_openMP_8</th>\n",
       "      <th>Diferencia pi_Basic_openMP_8</th>\n",
       "      <th>Tiempo de ejecuci¾n_Basic_openMP_8</th>\n",
       "    </tr>\n",
       "  </thead>\n",
       "  <tbody>\n",
       "    <tr>\n",
       "      <th>0</th>\n",
       "      <td>10000000</td>\n",
       "      <td>3.141593</td>\n",
       "      <td>-1.000000e-07</td>\n",
       "      <td>0.035672</td>\n",
       "    </tr>\n",
       "    <tr>\n",
       "      <th>1</th>\n",
       "      <td>20000000</td>\n",
       "      <td>3.141593</td>\n",
       "      <td>-1.000000e-07</td>\n",
       "      <td>0.076739</td>\n",
       "    </tr>\n",
       "    <tr>\n",
       "      <th>2</th>\n",
       "      <td>40000000</td>\n",
       "      <td>3.141593</td>\n",
       "      <td>-1.000000e-07</td>\n",
       "      <td>0.107972</td>\n",
       "    </tr>\n",
       "    <tr>\n",
       "      <th>3</th>\n",
       "      <td>80000000</td>\n",
       "      <td>3.141593</td>\n",
       "      <td>-1.000000e-07</td>\n",
       "      <td>0.220381</td>\n",
       "    </tr>\n",
       "    <tr>\n",
       "      <th>4</th>\n",
       "      <td>160000000</td>\n",
       "      <td>3.141593</td>\n",
       "      <td>-1.000000e-07</td>\n",
       "      <td>0.414010</td>\n",
       "    </tr>\n",
       "    <tr>\n",
       "      <th>5</th>\n",
       "      <td>320000000</td>\n",
       "      <td>3.141593</td>\n",
       "      <td>-1.000000e-07</td>\n",
       "      <td>0.835199</td>\n",
       "    </tr>\n",
       "    <tr>\n",
       "      <th>6</th>\n",
       "      <td>640000000</td>\n",
       "      <td>3.141593</td>\n",
       "      <td>-1.000000e-07</td>\n",
       "      <td>1.686308</td>\n",
       "    </tr>\n",
       "    <tr>\n",
       "      <th>7</th>\n",
       "      <td>1280000000</td>\n",
       "      <td>3.141593</td>\n",
       "      <td>-1.000000e-07</td>\n",
       "      <td>3.332096</td>\n",
       "    </tr>\n",
       "    <tr>\n",
       "      <th>8</th>\n",
       "      <td>2560000000</td>\n",
       "      <td>3.141593</td>\n",
       "      <td>-1.000000e-07</td>\n",
       "      <td>6.654760</td>\n",
       "    </tr>\n",
       "    <tr>\n",
       "      <th>9</th>\n",
       "      <td>5120000000</td>\n",
       "      <td>3.141593</td>\n",
       "      <td>-1.000000e-07</td>\n",
       "      <td>13.376870</td>\n",
       "    </tr>\n",
       "  </tbody>\n",
       "</table>\n",
       "</div>"
      ],
      "text/plain": [
       "   num_steps_Basic_openMP_8   Estimaci¾n pi_Basic_openMP_8  \\\n",
       "0                  10000000                       3.141593   \n",
       "1                  20000000                       3.141593   \n",
       "2                  40000000                       3.141593   \n",
       "3                  80000000                       3.141593   \n",
       "4                 160000000                       3.141593   \n",
       "5                 320000000                       3.141593   \n",
       "6                 640000000                       3.141593   \n",
       "7                1280000000                       3.141593   \n",
       "8                2560000000                       3.141593   \n",
       "9                5120000000                       3.141593   \n",
       "\n",
       "    Diferencia pi_Basic_openMP_8   Tiempo de ejecuci¾n_Basic_openMP_8  \n",
       "0                  -1.000000e-07                             0.035672  \n",
       "1                  -1.000000e-07                             0.076739  \n",
       "2                  -1.000000e-07                             0.107972  \n",
       "3                  -1.000000e-07                             0.220381  \n",
       "4                  -1.000000e-07                             0.414010  \n",
       "5                  -1.000000e-07                             0.835199  \n",
       "6                  -1.000000e-07                             1.686308  \n",
       "7                  -1.000000e-07                             3.332096  \n",
       "8                  -1.000000e-07                             6.654760  \n",
       "9                  -1.000000e-07                            13.376870  "
      ]
     },
     "execution_count": 10,
     "metadata": {},
     "output_type": "execute_result"
    }
   ],
   "source": [
    "input_folder = '.\\Resultados_csv'\n",
    "dataframes = csv_files_to_dataframe_folder(input_folder)\n",
    "print(len(dataframes))\n",
    "dataframes[1]"
   ]
  },
  {
   "cell_type": "markdown",
   "id": "586b97f2",
   "metadata": {},
   "source": [
    "Antes de generar las listas de dataframes, vamos a cambiar todos los nombres personalizados de num_steps_tipo a num_steps, para poder combinar los dataframes por dicha columna"
   ]
  },
  {
   "cell_type": "code",
   "execution_count": 14,
   "id": "a7f7ab0a",
   "metadata": {},
   "outputs": [],
   "source": [
    "def rename_num_steps_columns(dataframes):\n",
    "    \n",
    "    for i, df in enumerate(dataframes):\n",
    "        # Renombra las columnas que contienen 'num_steps_'\n",
    "        df.columns = ['num_steps' if 'num_steps_' in col else col for col in df.columns]\n",
    "        dataframes[i] = df  # Actualiza el DataFrame en la lista\n",
    "    return dataframes"
   ]
  },
  {
   "cell_type": "code",
   "execution_count": 20,
   "id": "2f95f275",
   "metadata": {},
   "outputs": [
    {
     "data": {
      "text/html": [
       "<div>\n",
       "<style scoped>\n",
       "    .dataframe tbody tr th:only-of-type {\n",
       "        vertical-align: middle;\n",
       "    }\n",
       "\n",
       "    .dataframe tbody tr th {\n",
       "        vertical-align: top;\n",
       "    }\n",
       "\n",
       "    .dataframe thead th {\n",
       "        text-align: right;\n",
       "    }\n",
       "</style>\n",
       "<table border=\"1\" class=\"dataframe\">\n",
       "  <thead>\n",
       "    <tr style=\"text-align: right;\">\n",
       "      <th></th>\n",
       "      <th>num_steps</th>\n",
       "      <th>Estimación pi_Basic_MPI_cluster_8</th>\n",
       "      <th>Diferencia pi_Basic_MPI_cluster_8</th>\n",
       "      <th>Tiempo de ejecución_Basic_MPI_cluster_8</th>\n",
       "    </tr>\n",
       "  </thead>\n",
       "  <tbody>\n",
       "    <tr>\n",
       "      <th>0</th>\n",
       "      <td>10000000</td>\n",
       "      <td>3.141593</td>\n",
       "      <td>-1.000000e-07</td>\n",
       "      <td>0.035863</td>\n",
       "    </tr>\n",
       "    <tr>\n",
       "      <th>1</th>\n",
       "      <td>20000000</td>\n",
       "      <td>3.141593</td>\n",
       "      <td>-1.000000e-07</td>\n",
       "      <td>0.022100</td>\n",
       "    </tr>\n",
       "    <tr>\n",
       "      <th>2</th>\n",
       "      <td>40000000</td>\n",
       "      <td>3.141593</td>\n",
       "      <td>-1.000000e-07</td>\n",
       "      <td>0.039896</td>\n",
       "    </tr>\n",
       "    <tr>\n",
       "      <th>3</th>\n",
       "      <td>80000000</td>\n",
       "      <td>3.141593</td>\n",
       "      <td>-1.000000e-07</td>\n",
       "      <td>0.045129</td>\n",
       "    </tr>\n",
       "    <tr>\n",
       "      <th>4</th>\n",
       "      <td>160000000</td>\n",
       "      <td>3.141593</td>\n",
       "      <td>-1.000000e-07</td>\n",
       "      <td>0.087928</td>\n",
       "    </tr>\n",
       "    <tr>\n",
       "      <th>5</th>\n",
       "      <td>320000000</td>\n",
       "      <td>3.141593</td>\n",
       "      <td>-1.000000e-07</td>\n",
       "      <td>0.175930</td>\n",
       "    </tr>\n",
       "    <tr>\n",
       "      <th>6</th>\n",
       "      <td>640000000</td>\n",
       "      <td>3.141593</td>\n",
       "      <td>-1.000000e-07</td>\n",
       "      <td>0.353394</td>\n",
       "    </tr>\n",
       "    <tr>\n",
       "      <th>7</th>\n",
       "      <td>1280000000</td>\n",
       "      <td>3.141593</td>\n",
       "      <td>-1.000000e-07</td>\n",
       "      <td>0.705969</td>\n",
       "    </tr>\n",
       "    <tr>\n",
       "      <th>8</th>\n",
       "      <td>2560000000</td>\n",
       "      <td>3.141593</td>\n",
       "      <td>-1.000000e-07</td>\n",
       "      <td>1.408125</td>\n",
       "    </tr>\n",
       "    <tr>\n",
       "      <th>9</th>\n",
       "      <td>5120000000</td>\n",
       "      <td>3.141593</td>\n",
       "      <td>-1.000000e-07</td>\n",
       "      <td>2.815213</td>\n",
       "    </tr>\n",
       "  </tbody>\n",
       "</table>\n",
       "</div>"
      ],
      "text/plain": [
       "    num_steps   Estimación pi_Basic_MPI_cluster_8  \\\n",
       "0    10000000                            3.141593   \n",
       "1    20000000                            3.141593   \n",
       "2    40000000                            3.141593   \n",
       "3    80000000                            3.141593   \n",
       "4   160000000                            3.141593   \n",
       "5   320000000                            3.141593   \n",
       "6   640000000                            3.141593   \n",
       "7  1280000000                            3.141593   \n",
       "8  2560000000                            3.141593   \n",
       "9  5120000000                            3.141593   \n",
       "\n",
       "    Diferencia pi_Basic_MPI_cluster_8  \\\n",
       "0                       -1.000000e-07   \n",
       "1                       -1.000000e-07   \n",
       "2                       -1.000000e-07   \n",
       "3                       -1.000000e-07   \n",
       "4                       -1.000000e-07   \n",
       "5                       -1.000000e-07   \n",
       "6                       -1.000000e-07   \n",
       "7                       -1.000000e-07   \n",
       "8                       -1.000000e-07   \n",
       "9                       -1.000000e-07   \n",
       "\n",
       "    Tiempo de ejecución_Basic_MPI_cluster_8  \n",
       "0                                  0.035863  \n",
       "1                                  0.022100  \n",
       "2                                  0.039896  \n",
       "3                                  0.045129  \n",
       "4                                  0.087928  \n",
       "5                                  0.175930  \n",
       "6                                  0.353394  \n",
       "7                                  0.705969  \n",
       "8                                  1.408125  \n",
       "9                                  2.815213  "
      ]
     },
     "execution_count": 20,
     "metadata": {},
     "output_type": "execute_result"
    }
   ],
   "source": [
    "dataframes = rename_num_steps_columns(dataframes)\n",
    "dataframes[0]"
   ]
  },
  {
   "cell_type": "markdown",
   "id": "77fd7e90",
   "metadata": {},
   "source": [
    "Hacemos una lista de dataframes con cada tipo a analizar"
   ]
  },
  {
   "cell_type": "code",
   "execution_count": 23,
   "id": "ad56cd48",
   "metadata": {},
   "outputs": [
    {
     "name": "stdout",
     "output_type": "stream",
     "text": [
      "9 5 4 3 3\n"
     ]
    }
   ],
   "source": [
    "BasicDataframes = []\n",
    "MontecarloDataframes = []\n",
    "OpenMPDataframes = []\n",
    "MPIDataframes = []\n",
    "GeneralDataframes = dataframes\n",
    "\n",
    "for i in dataframes:\n",
    "    if 'Basic' in i.columns[1]:\n",
    "        BasicDataframes.append(i)\n",
    "    if 'Montecarlo' in i.columns[1]:\n",
    "        MontecarloDataframes.append(i)\n",
    "    if 'open' in i.columns[1].lower():\n",
    "        OpenMPDataframes.append(i)\n",
    "    if 'mpi' in i.columns[1].lower():\n",
    "        MPIDataframes.append(i)\n",
    "    #Compruebo en la columna 1 ya que la 0 es un nombre generalizado para combinar los dataframes\n",
    "print(len(GeneralDataframes),len(BasicDataframes), len(MontecarloDataframes),len(OpenMPDataframes), len(MPIDataframes))"
   ]
  },
  {
   "cell_type": "code",
   "execution_count": 24,
   "id": "2871cd51",
   "metadata": {},
   "outputs": [
    {
     "data": {
      "text/html": [
       "<div>\n",
       "<style scoped>\n",
       "    .dataframe tbody tr th:only-of-type {\n",
       "        vertical-align: middle;\n",
       "    }\n",
       "\n",
       "    .dataframe tbody tr th {\n",
       "        vertical-align: top;\n",
       "    }\n",
       "\n",
       "    .dataframe thead th {\n",
       "        text-align: right;\n",
       "    }\n",
       "</style>\n",
       "<table border=\"1\" class=\"dataframe\">\n",
       "  <thead>\n",
       "    <tr style=\"text-align: right;\">\n",
       "      <th></th>\n",
       "      <th>num_steps</th>\n",
       "      <th>Estimación pi_Basic_MPI_cluster_8</th>\n",
       "      <th>Diferencia pi_Basic_MPI_cluster_8</th>\n",
       "      <th>Tiempo de ejecución_Basic_MPI_cluster_8</th>\n",
       "    </tr>\n",
       "  </thead>\n",
       "  <tbody>\n",
       "    <tr>\n",
       "      <th>0</th>\n",
       "      <td>10000000</td>\n",
       "      <td>3.141593</td>\n",
       "      <td>-1.000000e-07</td>\n",
       "      <td>0.035863</td>\n",
       "    </tr>\n",
       "    <tr>\n",
       "      <th>1</th>\n",
       "      <td>20000000</td>\n",
       "      <td>3.141593</td>\n",
       "      <td>-1.000000e-07</td>\n",
       "      <td>0.022100</td>\n",
       "    </tr>\n",
       "    <tr>\n",
       "      <th>2</th>\n",
       "      <td>40000000</td>\n",
       "      <td>3.141593</td>\n",
       "      <td>-1.000000e-07</td>\n",
       "      <td>0.039896</td>\n",
       "    </tr>\n",
       "    <tr>\n",
       "      <th>3</th>\n",
       "      <td>80000000</td>\n",
       "      <td>3.141593</td>\n",
       "      <td>-1.000000e-07</td>\n",
       "      <td>0.045129</td>\n",
       "    </tr>\n",
       "    <tr>\n",
       "      <th>4</th>\n",
       "      <td>160000000</td>\n",
       "      <td>3.141593</td>\n",
       "      <td>-1.000000e-07</td>\n",
       "      <td>0.087928</td>\n",
       "    </tr>\n",
       "    <tr>\n",
       "      <th>5</th>\n",
       "      <td>320000000</td>\n",
       "      <td>3.141593</td>\n",
       "      <td>-1.000000e-07</td>\n",
       "      <td>0.175930</td>\n",
       "    </tr>\n",
       "    <tr>\n",
       "      <th>6</th>\n",
       "      <td>640000000</td>\n",
       "      <td>3.141593</td>\n",
       "      <td>-1.000000e-07</td>\n",
       "      <td>0.353394</td>\n",
       "    </tr>\n",
       "    <tr>\n",
       "      <th>7</th>\n",
       "      <td>1280000000</td>\n",
       "      <td>3.141593</td>\n",
       "      <td>-1.000000e-07</td>\n",
       "      <td>0.705969</td>\n",
       "    </tr>\n",
       "    <tr>\n",
       "      <th>8</th>\n",
       "      <td>2560000000</td>\n",
       "      <td>3.141593</td>\n",
       "      <td>-1.000000e-07</td>\n",
       "      <td>1.408125</td>\n",
       "    </tr>\n",
       "    <tr>\n",
       "      <th>9</th>\n",
       "      <td>5120000000</td>\n",
       "      <td>3.141593</td>\n",
       "      <td>-1.000000e-07</td>\n",
       "      <td>2.815213</td>\n",
       "    </tr>\n",
       "  </tbody>\n",
       "</table>\n",
       "</div>"
      ],
      "text/plain": [
       "    num_steps   Estimación pi_Basic_MPI_cluster_8  \\\n",
       "0    10000000                            3.141593   \n",
       "1    20000000                            3.141593   \n",
       "2    40000000                            3.141593   \n",
       "3    80000000                            3.141593   \n",
       "4   160000000                            3.141593   \n",
       "5   320000000                            3.141593   \n",
       "6   640000000                            3.141593   \n",
       "7  1280000000                            3.141593   \n",
       "8  2560000000                            3.141593   \n",
       "9  5120000000                            3.141593   \n",
       "\n",
       "    Diferencia pi_Basic_MPI_cluster_8  \\\n",
       "0                       -1.000000e-07   \n",
       "1                       -1.000000e-07   \n",
       "2                       -1.000000e-07   \n",
       "3                       -1.000000e-07   \n",
       "4                       -1.000000e-07   \n",
       "5                       -1.000000e-07   \n",
       "6                       -1.000000e-07   \n",
       "7                       -1.000000e-07   \n",
       "8                       -1.000000e-07   \n",
       "9                       -1.000000e-07   \n",
       "\n",
       "    Tiempo de ejecución_Basic_MPI_cluster_8  \n",
       "0                                  0.035863  \n",
       "1                                  0.022100  \n",
       "2                                  0.039896  \n",
       "3                                  0.045129  \n",
       "4                                  0.087928  \n",
       "5                                  0.175930  \n",
       "6                                  0.353394  \n",
       "7                                  0.705969  \n",
       "8                                  1.408125  \n",
       "9                                  2.815213  "
      ]
     },
     "execution_count": 24,
     "metadata": {},
     "output_type": "execute_result"
    }
   ],
   "source": [
    "MPIDataframes[0]"
   ]
  },
  {
   "cell_type": "markdown",
   "id": "f95abefd",
   "metadata": {},
   "source": [
    "Concatenamos cada listas de dataframes(Es importante que todos los dataframes tengan una columna con un mismo nombre y valores)"
   ]
  },
  {
   "cell_type": "code",
   "execution_count": 26,
   "id": "be02921b",
   "metadata": {},
   "outputs": [],
   "source": [
    "def combina_dataframes(dataframes):\n",
    "    combined_df = dataframes[0]\n",
    "    for df in dataframes[1:]:\n",
    "        combined_df = pd.merge(combined_df, df, on='num_steps', how='outer')\n",
    "    return combined_df"
   ]
  },
  {
   "cell_type": "code",
   "execution_count": 28,
   "id": "a08fb167",
   "metadata": {},
   "outputs": [],
   "source": [
    "BasicDataframes_combinado = combina_dataframes(BasicDataframes)\n",
    "MontecarloDataframes_combinado = combina_dataframes(MontecarloDataframes)\n",
    "OpenMPDataframes_combinado = combina_dataframes(OpenMPDataframes)\n",
    "MPIDataframes_combinado = combina_dataframes(MPIDataframes)\n",
    "GeneralDataframes_combinado = combina_dataframes(GeneralDataframes)"
   ]
  },
  {
   "cell_type": "markdown",
   "id": "575cf736",
   "metadata": {},
   "source": [
    "# Análisis de dataframes(Aceleración)"
   ]
  },
  {
   "cell_type": "markdown",
   "id": "307b1d79",
   "metadata": {},
   "source": [
    "El primero de los análisis de rendimiento, será la aceleración, para ello crearemos una función en la cual, introduciremos los métodos a analizar y el tipo de función que analizaremos(Basic/Montecarlo). Además añadiré una función que devuelva la aceleración respecto al método base según el tipo."
   ]
  },
  {
   "cell_type": "code",
   "execution_count": 62,
   "id": "fa68cdf6",
   "metadata": {},
   "outputs": [],
   "source": [
    "def aceleracion(m1,m2,tipo):\n",
    "    if tipo == \"Montecarlo\":\n",
    "        #Buscamos las columnas que vamos a comparar dentro del dataframe haciendo que contengan la cadena Tiempo y\n",
    "        #el método m1 o m2\n",
    "        column1 = [col for col in MontecarloDataframes_combinado.columns if m1 in col and 'Tiempo' in col]\n",
    "        column2 = [col for col in MontecarloDataframes_combinado.columns if m2 in col and 'Tiempo' in col]\n",
    "        return (MontecarloDataframes_combinado[column1[0]] / MontecarloDataframes_combinado[column2[0]]).mean()\n",
    "    else:\n",
    "        column1 = [col for col in BasicDataframes_combinado.columns if m1 in col and 'Tiempo' in col]\n",
    "        column2 = [col for col in BasicDataframes_combinado.columns if m2 in col and 'Tiempo' in col]\n",
    "        return (BasicDataframes_combinado[column1[0]] / BasicDataframes_combinado[column2[0]]).mean()\n",
    "\n",
    "def aceleracion_base(m1,tipo):\n",
    "    return aceleracion('sin_optimizar',m1,tipo)"
   ]
  },
  {
   "cell_type": "markdown",
   "id": "c38bafa2",
   "metadata": {},
   "source": [
    "Los valores que pueden tomar m1 y m2 para calcular la aceleración dependerán de los métodos que hayas probado para generar resultados.<br>\n",
    "Para Montecarlo, en mi caso, pueden ser: sin_optimizar,optimizado,openMP_16 y MPI_cluster_8.<br>\n",
    "Para Basic, pueden ser: sin_optimizar,optimizado,openMP_8, MPI_cluster_8 y OpenMP_y_MPI_8_4<br>\n",
    "**¡Importante! Si la aceleración es menor que 1, para saber la aceleración real, deberá cambiar el orden de los métodos a comparar, la función está heca para poner en primer lugar la más lenta**"
   ]
  },
  {
   "cell_type": "code",
   "execution_count": 63,
   "id": "e94f6d1e",
   "metadata": {},
   "outputs": [
    {
     "data": {
      "text/plain": [
       "1.1218707171940552"
      ]
     },
     "execution_count": 63,
     "metadata": {},
     "output_type": "execute_result"
    }
   ],
   "source": [
    "#Ejemplo de cómo se usaría la función de aceleración\n",
    "aceleracion('sin_optimizar','optimizado','Montecarlo')"
   ]
  },
  {
   "cell_type": "code",
   "execution_count": 64,
   "id": "362dc462",
   "metadata": {},
   "outputs": [
    {
     "data": {
      "text/plain": [
       "1.1218707171940552"
      ]
     },
     "execution_count": 64,
     "metadata": {},
     "output_type": "execute_result"
    }
   ],
   "source": [
    "#Ejemplo de cómo se usaría la función de aceleración respecto al método sin optimizar\n",
    "aceleracion_base('optimizado','Montecarlo')"
   ]
  },
  {
   "cell_type": "markdown",
   "id": "c0fa8321",
   "metadata": {},
   "source": [
    "# Análisis de dataframes(Diferencia en la estimación de pi)"
   ]
  },
  {
   "cell_type": "markdown",
   "id": "56ba399e",
   "metadata": {},
   "source": [
    "Tras haber visto cómo podemos calcular la aceleración entre distintos métodos, según su tipo(Basic/Montecarlo);\n",
    "ahora añadiré una función, para calcular el error medio en el cálculo de la diferencia entre la estimación de pi y su valor real, para Montecarlo."
   ]
  },
  {
   "cell_type": "code",
   "execution_count": 66,
   "id": "a2bc2e2e",
   "metadata": {},
   "outputs": [],
   "source": [
    "def error_promedio_estimacion_pi(m):\n",
    "    #Primero buscamos las columnas que vamos a comparar dentro del dataframe haciendo que contengan la cadena Tiempo y\n",
    "    #el método m1 o m2\n",
    "    column = [col for col in MontecarloDataframes_combinado.columns if m in col and 'Diferencia' in col]\n",
    "    return (MontecarloDataframes_combinado[column[0]]).abs().mean()"
   ]
  },
  {
   "cell_type": "code",
   "execution_count": 69,
   "id": "a98b00b2",
   "metadata": {},
   "outputs": [
    {
     "data": {
      "text/plain": [
       "8.057999999999999e-05"
      ]
     },
     "execution_count": 69,
     "metadata": {},
     "output_type": "execute_result"
    }
   ],
   "source": [
    "#Ejemplo de cómo se usaría la función, en m podremos poner los valores que designamos para Montecarlo en la sección anterior\n",
    "error_promedio_estimacion_pi('MPI_cluster_8')"
   ]
  },
  {
   "cell_type": "markdown",
   "id": "20d9d775",
   "metadata": {},
   "source": [
    "# Análisis de dataframes(Generar gráficas)"
   ]
  },
  {
   "cell_type": "markdown",
   "id": "9a83ff25",
   "metadata": {},
   "source": [
    "Una manera interesante de analizar los resultados, es hacerlo de forma visual mediante gráficas, para ello, crearemos una función general que nos muestre una gráfica, en escala logarítmica, para apreciar mejor los valores respecto al num_steps, ya que este aumenta duplicándose por iteración. Esta gráfica mostrará los tiempos de ejecución de los distintos métodos."
   ]
  },
  {
   "cell_type": "code",
   "execution_count": 84,
   "id": "63858fe7",
   "metadata": {},
   "outputs": [],
   "source": [
    "def genera_grafica(df, y_columns,repo_path=None,filename=None): \n",
    "    # Crear el gráfico\n",
    "    plt.figure(figsize=(10, 6))\n",
    "    \n",
    "    # Iterar sobre las columnas del eje y y representarlas\n",
    "    for column in y_columns:\n",
    "        plt.plot(df['num_steps'], df[column], label=column)\n",
    "        plt.scatter(df['num_steps'], df[column])\n",
    "\n",
    "    # Establecer la escala logarítmica en el eje x\n",
    "    plt.xscale('log')\n",
    "\n",
    "    # Añadir etiquetas y leyenda\n",
    "    plt.xlabel('num_steps')\n",
    "    plt.ylabel('Tiempo de ejecución')\n",
    "    plt.title('Gráfico Tiempo ejecución/num_steps')\n",
    "    plt.legend()\n",
    "\n",
    "    # Guardar el gráfico como un archivo PNG si se proporciona un nombre de archivo\n",
    "    if filename and repo_path:\n",
    "        filepath = os.path.join(repo_path, filename)\n",
    "        plt.savefig(filepath)\n",
    "    # Mostrar el gráfico\n",
    "    plt.show()"
   ]
  },
  {
   "cell_type": "markdown",
   "id": "51421324",
   "metadata": {},
   "source": [
    "Primero crearé una función para extraer todas las columnas de tiempo de ejecución de un dataframe."
   ]
  },
  {
   "cell_type": "code",
   "execution_count": 85,
   "id": "441cb933",
   "metadata": {},
   "outputs": [],
   "source": [
    "def time_columns(df):\n",
    "    columnas = [col for col in df.columns if 'Tiempo' in col]\n",
    "    return columnas"
   ]
  },
  {
   "cell_type": "markdown",
   "id": "c39b64ba",
   "metadata": {},
   "source": [
    "Para usar la función genera_grafica, damos como datos de entrada, primero el dataframe, luego una lista de columnas de tiempos de ejecución(podemos usar la función auxiliar anterior) y si queremos guardar una imagen de la gráfica en un repositorio en particular, hay que añadir el path del repositorio de salida y el nombre de la imagen."
   ]
  },
  {
   "cell_type": "code",
   "execution_count": 87,
   "id": "52cf4c11",
   "metadata": {},
   "outputs": [
    {
     "data": {
      "image/png": "[encoded data removed]",
      "text/plain": [
       "<Figure size 1000x600 with 1 Axes>"
      ]
     },
     "metadata": {},
     "output_type": "display_data"
    }
   ],
   "source": [
    "#Si solo damos el dataframe y las columnas nos haría el print sin guardar la imagen\n",
    "genera_grafica(BasicDataframes_combinado,time_columns(BasicDataframes_combinado))\n",
    "#Para guardar la imagen de la gráfica habría que añadir el path y nombre\n",
    "#genera_grafica(BasicDataframes_combinado,time_columns(BasicDataframes_combinado),ruta_directorio_salida,nombre_imagen)"
   ]
  }
 ],
 "metadata": {
  "kernelspec": {
   "display_name": "Python 3 (ipykernel)",
   "language": "python",
   "name": "python3"
  },
  "language_info": {
   "codemirror_mode": {
    "name": "ipython",
    "version": 3
   },
   "file_extension": ".py",
   "mimetype": "text/x-python",
   "name": "python",
   "nbconvert_exporter": "python",
   "pygments_lexer": "ipython3",
   "version": "3.10.9"
  }
 },
 "nbformat": 4,
 "nbformat_minor": 5
}
